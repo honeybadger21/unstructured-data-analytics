{
 "cells": [
  {
   "cell_type": "markdown",
   "metadata": {},
   "source": [
    "#### This notebook is created as submission for Assignment 01, Analytics for Unstructured Data\n",
    "Submitted by: Ruchi Sharma "
   ]
  },
  {
   "cell_type": "markdown",
   "metadata": {},
   "source": [
    "In this assignment you have been hired as an analytics consultant by JD power and Associates, who wants to perform a competitive analysis of the entry level luxury car market in the USA. Your job is to give advice/insights to these individuals based on the analysis of social media conversations"
   ]
  },
  {
   "cell_type": "markdown",
   "metadata": {},
   "source": [
    "1.\tWrite a scraper to fetch messages posted in Edmunds.com discussion forums. The scraper output should be a .csv file with the following columns: date and message (even though you will only use the messages in your analysis). Before you develop the scraper, carefully study one of the forums on Edmunds.com to understand the html design as well as the threading structures. "
   ]
  },
  {
   "cell_type": "markdown",
   "metadata": {},
   "source": [
    "2.\t Fetch around 5000 posts about cars from the Entry Level Luxury forum https://forums.edmunds.com/discussion/2864/general/x/entry-level-luxury-performance-sedans -- The idea is to have multiple brands and models being discussed without one of them being the focal point. You can choose early or recent posts (do mention what you have chosen). Note that Edmunds changed its forum structure a few years ago, but left the early posts with the old structure. So you should choose either the oldest or newest posts. "
   ]
  },
  {
   "cell_type": "code",
   "execution_count": 1,
   "metadata": {},
   "outputs": [],
   "source": [
    "import pandas as pd\n",
    "data = pd.read_csv(\"scraped_data_1.csv\", index_col = 0)"
   ]
  },
  {
   "cell_type": "markdown",
   "metadata": {},
   "source": [
    "Task A: Once you fetch the data, test if the data support Zipf’s law econometrically. Also plot the most common 100 words in the data against the theoretical prediction of the law. For this question, do not remove stopwords. Also do not perform stemming or lemmatization. \n",
    "\n",
    "Check http://www.garysieling.com/blog/exploring-zipfs-law-with-python-nltk-scipy-and-matplotlib \n",
    "(Note that the above link does not test Zipf’s law econometrically)\n"
   ]
  },
  {
   "cell_type": "code",
   "execution_count": 2,
   "metadata": {},
   "outputs": [
    {
     "name": "stdout",
     "output_type": "stream",
     "text": [
      "Top 20: \n",
      " [('the', 19660), ('a', 10839), ('I', 9025), ('and', 8507), ('to', 8287), ('of', 5527), ('is', 5423), ('in', 5203), ('for', 4031), ('it', 4004), ('that', 3944), ('on', 3694), ('with', 3278), ('have', 2546), ('you', 2487), ('my', 2422), ('was', 2396), ('but', 2349), ('are', 2172), ('The', 2167)] \n",
      "\n",
      " Bottom 20: \n",
      " [('pilgrimage', 1), ('tilted,', 1), ('rotating', 1), ('(read:', 1), ('hideous,', 1), ('also),', 1), ('(another', 1), ('mine),', 1), ('86),', 1), ('better),', 1), ('($27k', 1), ('armrest??),', 1), ('(nicely', 1), ('out),', 1), ('Sportage,', 1), ('CX-5,', 1), ('(love', 1), ('seats!),', 1), ('accident)', 1), ('vehicle).', 1)]\n"
     ]
    }
   ],
   "source": [
    "data1 = data.copy()\n",
    "data1 = data1.dropna()\n",
    "\n",
    "test = data1['comment']\n",
    "\n",
    "okay = {} \n",
    "\n",
    "for elem in test:\n",
    "    elem_split = elem.split() \n",
    "    \n",
    "    for elem3 in elem_split:      \n",
    "        if elem3 not in okay:\n",
    "            okay[elem3] = 1\n",
    "        elif elem3 in okay:\n",
    "            okay[elem3] += 1\n",
    "            \n",
    "freq_list = sorted(okay.items(), key=lambda x: x[1], reverse=True)\n",
    "\n",
    "print(\"Top 20: \\n\", freq_list[:20], \"\\n\\n\", \"Bottom 20: \\n\", freq_list[-20:])"
   ]
  },
  {
   "cell_type": "code",
   "execution_count": 3,
   "metadata": {},
   "outputs": [
    {
     "data": {
      "text/plain": [
       "([], <a list of 0 Text xticklabel objects>)"
      ]
     },
     "execution_count": 3,
     "metadata": {},
     "output_type": "execute_result"
    },
    {
     "data": {
      "image/png": "[encoded data removed]",
      "text/plain": [
       "<Figure size 432x288 with 1 Axes>"
      ]
     },
     "metadata": {
      "needs_background": "light"
     },
     "output_type": "display_data"
    }
   ],
   "source": [
    "import matplotlib.pyplot as plt\n",
    "x, y = zip(*freq_list)\n",
    "\n",
    "plt.plot(x, y)\n",
    "plt.xticks([])"
   ]
  },
  {
   "cell_type": "markdown",
   "metadata": {},
   "source": [
    "We can clearly intepret form the graph above that Zipf's Law seems to be followed. We see the high frequency words are extremely lower in number as compared to words across the corpus. "
   ]
  },
  {
   "cell_type": "markdown",
   "metadata": {},
   "source": [
    "Task B: Find the top 10 brands from frequency counts. You will need to write a script to count the frequencies of words (stopwords should NOT be counted). Replace frequently occurring car models with brands so that from now on you have to deal with only brands and not models. You will need another script for this job. A list of model and brand names (not exhaustive) are provided in a separate file."
   ]
  },
  {
   "cell_type": "code",
   "execution_count": 13,
   "metadata": {},
   "outputs": [],
   "source": [
    "from nltk.corpus import stopwords\n",
    "from nltk.tokenize import word_tokenize\n",
    "from string import punctuation\n",
    "\n",
    "data2 = data.copy()\n",
    "data2 = data2.dropna()\n",
    "\n",
    "def removepuns(item):\n",
    "    for p in punctuation:\n",
    "        item = item.lstrip().replace(p,'')\n",
    "    return item.lower()\n",
    "\n",
    "data2['comment'] = data2['comment'].apply(removepuns)\n",
    "\n",
    "cars = pd.read_csv(\"car models and brands (3).csv\")\n",
    "\n",
    "def modelToBrand(q):\n",
    "    for i in cars.index.values:\n",
    "        q = q.replace(cars['Model'][i].lower(), cars['Brand'][i].lower())\n",
    "    return q\n",
    "\n",
    "data2['comment'] = data2['comment'].apply(modelToBrand)\n",
    "\n",
    "stop_words = set(stopwords.words('english'))\n",
    "\n",
    "def remove(x):\n",
    "    word_tokens = word_tokenize(x) \n",
    "    temp_new = [w.lower() for w in word_tokens if not w.lower() in stop_words] \n",
    "    return temp_new\n",
    "\n",
    "data2['comment'] = data2['comment'].apply(remove)"
   ]
  },
  {
   "cell_type": "code",
   "execution_count": 54,
   "metadata": {},
   "outputs": [
    {
     "data": {
      "text/plain": [
       "[('car', 1908),\n",
       " ('honda', 1380),\n",
       " ('ford', 910),\n",
       " ('toyota', 703),\n",
       " ('hyundai', 632),\n",
       " ('kia', 469),\n",
       " ('nissan', 466),\n",
       " ('mazda', 409),\n",
       " ('sedan', 394),\n",
       " ('chevrolet', 378),\n",
       " ('seat', 343),\n",
       " ('volkswagen', 336),\n",
       " ('subaru', 334),\n",
       " ('problem', 295),\n",
       " ('chrysler', 244),\n",
       " ('acura', 205),\n",
       " ('bmw', 168),\n",
       " ('dodge', 123),\n",
       " ('audi', 117),\n",
       " ('buick', 116),\n",
       " ('infiniti', 48),\n",
       " ('lincoln', 46),\n",
       " ('mercedes-benz', 36),\n",
       " ('volvo', 23),\n",
       " ('pontiac', 20),\n",
       " ('cadillac', 19),\n",
       " ('mitsubishi', 13),\n",
       " ('suzuki', 9),\n",
       " ('saturn', 7),\n",
       " ('mercury', 5)]"
      ]
     },
     "execution_count": 54,
     "metadata": {},
     "output_type": "execute_result"
    }
   ],
   "source": [
    "count = []\n",
    "for elem in data2['comment']:\n",
    "    count+=elem\n",
    "\n",
    "import nltk\n",
    "from nltk import FreqDist\n",
    "word_freq = nltk.FreqDist(count)\n",
    "\n",
    "brand_list = cars[\"Brand\"].unique()\n",
    "\n",
    "top_words = word_freq.most_common()\n",
    "top_brands = []\n",
    "\n",
    "for (key, items) in top_words:\n",
    "    if key in brand_list:\n",
    "        model_counts = (key,items)\n",
    "        top_brands.append(model_counts) \n",
    "\n",
    "top_brands\n",
    "\n",
    "# top 10 = Honda, Ford, Toyota, Hyundai, Kia, Nissan, Mazda, Chevrolet, Volkswagen, Subaru\n",
    "# next 10 = Chrysler, Acura, BMW, Dodge, Audi, Buick, Infiniti, Lincoln, Mercedes-Benz, Volvo\n",
    "# next 6 = Pontiac, Cadillac, Mitsubishi, Suzuki, Saturn, Mercury"
   ]
  },
  {
   "cell_type": "code",
   "execution_count": 177,
   "metadata": {},
   "outputs": [
    {
     "data": {
      "text/plain": [
       "<matplotlib.axes._subplots.AxesSubplot at 0x7f94cee51150>"
      ]
     },
     "execution_count": 177,
     "metadata": {},
     "output_type": "execute_result"
    },
    {
     "data": {
      "image/png": "[encoded data removed]",
      "text/plain": [
       "<Figure size 432x288 with 1 Axes>"
      ]
     },
     "metadata": {
      "needs_background": "light"
     },
     "output_type": "display_data"
    }
   ],
   "source": [
    "df100 = pd.DataFrame(top_brands, columns = ['Brand', 'Count'])\n",
    "df100.drop([0, 10, 13])[:10].plot(kind = 'bar')"
   ]
  },
  {
   "cell_type": "markdown",
   "metadata": {},
   "source": [
    "Task C: Calculate lift ratios for associations between the top-10 brands identified in Task A. You will have to write a script to do this task). For lift calculations, be sure not to count a mention more than once per post, even if it is mentioned multiple times in the post."
   ]
  },
  {
   "cell_type": "code",
   "execution_count": 119,
   "metadata": {},
   "outputs": [],
   "source": [
    "ten = [('honda', 1380), ('ford', 910), ('toyota', 703), ('hyundai', 632), ('kia', 469), ('nissan', 466),\n",
    "                     ('mazda', 409), ('chevrolet', 378), ('volkswagen', 336), ('subaru', 334)]\n",
    "ten1 = ['honda', 'ford', 'toyota', 'hyundai', 'kia', 'nissan', 'mazda', 'chevrolet', 'volkswagen', 'subaru']\n",
    "\n",
    "df2 = pd.DataFrame(columns = ten1)"
   ]
  },
  {
   "cell_type": "code",
   "execution_count": 120,
   "metadata": {},
   "outputs": [],
   "source": [
    "def mention(a):\n",
    "    if brand in a:\n",
    "        return 1\n",
    "    else:\n",
    "        return 0\n",
    "\n",
    "for brand in ten1:\n",
    "    df2[brand] = data2['comment'].apply(brand_mentioned)    "
   ]
  },
  {
   "cell_type": "code",
   "execution_count": 121,
   "metadata": {},
   "outputs": [
    {
     "data": {
      "text/html": [
       "<div>\n",
       "<style scoped>\n",
       "    .dataframe tbody tr th:only-of-type {\n",
       "        vertical-align: middle;\n",
       "    }\n",
       "\n",
       "    .dataframe tbody tr th {\n",
       "        vertical-align: top;\n",
       "    }\n",
       "\n",
       "    .dataframe thead th {\n",
       "        text-align: right;\n",
       "    }\n",
       "</style>\n",
       "<table border=\"1\" class=\"dataframe\">\n",
       "  <thead>\n",
       "    <tr style=\"text-align: right;\">\n",
       "      <th></th>\n",
       "      <th>honda</th>\n",
       "      <th>ford</th>\n",
       "      <th>toyota</th>\n",
       "      <th>hyundai</th>\n",
       "      <th>kia</th>\n",
       "      <th>nissan</th>\n",
       "      <th>mazda</th>\n",
       "      <th>chevrolet</th>\n",
       "      <th>volkswagen</th>\n",
       "      <th>subaru</th>\n",
       "    </tr>\n",
       "  </thead>\n",
       "  <tbody>\n",
       "    <tr>\n",
       "      <th>honda</th>\n",
       "      <td>NaN</td>\n",
       "      <td>1.33114</td>\n",
       "      <td>2.10887</td>\n",
       "      <td>1.67066</td>\n",
       "      <td>1.7116</td>\n",
       "      <td>2.12611</td>\n",
       "      <td>1.56485</td>\n",
       "      <td>1.59752</td>\n",
       "      <td>1.87254</td>\n",
       "      <td>1.77549</td>\n",
       "    </tr>\n",
       "    <tr>\n",
       "      <th>ford</th>\n",
       "      <td>1.33114</td>\n",
       "      <td>NaN</td>\n",
       "      <td>1.93444</td>\n",
       "      <td>1.70926</td>\n",
       "      <td>1.87071</td>\n",
       "      <td>1.91805</td>\n",
       "      <td>1.07257</td>\n",
       "      <td>2.13248</td>\n",
       "      <td>2.02368</td>\n",
       "      <td>1.83878</td>\n",
       "    </tr>\n",
       "    <tr>\n",
       "      <th>toyota</th>\n",
       "      <td>2.10887</td>\n",
       "      <td>1.93444</td>\n",
       "      <td>NaN</td>\n",
       "      <td>2.75166</td>\n",
       "      <td>2.45181</td>\n",
       "      <td>3.2749</td>\n",
       "      <td>1.82226</td>\n",
       "      <td>2.72284</td>\n",
       "      <td>2.42943</td>\n",
       "      <td>3.01778</td>\n",
       "    </tr>\n",
       "    <tr>\n",
       "      <th>hyundai</th>\n",
       "      <td>1.67066</td>\n",
       "      <td>1.70926</td>\n",
       "      <td>2.75166</td>\n",
       "      <td>NaN</td>\n",
       "      <td>3.88886</td>\n",
       "      <td>2.84647</td>\n",
       "      <td>1.23549</td>\n",
       "      <td>2.69452</td>\n",
       "      <td>2.74935</td>\n",
       "      <td>2.76581</td>\n",
       "    </tr>\n",
       "    <tr>\n",
       "      <th>kia</th>\n",
       "      <td>1.7116</td>\n",
       "      <td>1.87071</td>\n",
       "      <td>2.45181</td>\n",
       "      <td>3.88886</td>\n",
       "      <td>NaN</td>\n",
       "      <td>2.76266</td>\n",
       "      <td>1.79495</td>\n",
       "      <td>3.01176</td>\n",
       "      <td>2.65991</td>\n",
       "      <td>2.38914</td>\n",
       "    </tr>\n",
       "    <tr>\n",
       "      <th>nissan</th>\n",
       "      <td>2.12611</td>\n",
       "      <td>1.91805</td>\n",
       "      <td>3.2749</td>\n",
       "      <td>2.84647</td>\n",
       "      <td>2.76266</td>\n",
       "      <td>NaN</td>\n",
       "      <td>1.78033</td>\n",
       "      <td>3.14446</td>\n",
       "      <td>3.21882</td>\n",
       "      <td>2.62895</td>\n",
       "    </tr>\n",
       "    <tr>\n",
       "      <th>mazda</th>\n",
       "      <td>1.56485</td>\n",
       "      <td>1.07257</td>\n",
       "      <td>1.82226</td>\n",
       "      <td>1.23549</td>\n",
       "      <td>1.79495</td>\n",
       "      <td>1.78033</td>\n",
       "      <td>NaN</td>\n",
       "      <td>1.42016</td>\n",
       "      <td>1.96079</td>\n",
       "      <td>2.11865</td>\n",
       "    </tr>\n",
       "    <tr>\n",
       "      <th>chevrolet</th>\n",
       "      <td>1.59752</td>\n",
       "      <td>2.13248</td>\n",
       "      <td>2.72284</td>\n",
       "      <td>2.69452</td>\n",
       "      <td>3.01176</td>\n",
       "      <td>3.14446</td>\n",
       "      <td>1.42016</td>\n",
       "      <td>NaN</td>\n",
       "      <td>3.41813</td>\n",
       "      <td>3.00383</td>\n",
       "    </tr>\n",
       "    <tr>\n",
       "      <th>volkswagen</th>\n",
       "      <td>1.87254</td>\n",
       "      <td>2.02368</td>\n",
       "      <td>2.42943</td>\n",
       "      <td>2.74935</td>\n",
       "      <td>2.65991</td>\n",
       "      <td>3.21882</td>\n",
       "      <td>1.96079</td>\n",
       "      <td>3.41813</td>\n",
       "      <td>NaN</td>\n",
       "      <td>3.82396</td>\n",
       "    </tr>\n",
       "    <tr>\n",
       "      <th>subaru</th>\n",
       "      <td>1.77549</td>\n",
       "      <td>1.83878</td>\n",
       "      <td>3.01778</td>\n",
       "      <td>2.76581</td>\n",
       "      <td>2.38914</td>\n",
       "      <td>2.62895</td>\n",
       "      <td>2.11865</td>\n",
       "      <td>3.00383</td>\n",
       "      <td>3.82396</td>\n",
       "      <td>NaN</td>\n",
       "    </tr>\n",
       "  </tbody>\n",
       "</table>\n",
       "</div>"
      ],
      "text/plain": [
       "              honda     ford   toyota  hyundai      kia   nissan    mazda  \\\n",
       "honda           NaN  1.33114  2.10887  1.67066   1.7116  2.12611  1.56485   \n",
       "ford        1.33114      NaN  1.93444  1.70926  1.87071  1.91805  1.07257   \n",
       "toyota      2.10887  1.93444      NaN  2.75166  2.45181   3.2749  1.82226   \n",
       "hyundai     1.67066  1.70926  2.75166      NaN  3.88886  2.84647  1.23549   \n",
       "kia          1.7116  1.87071  2.45181  3.88886      NaN  2.76266  1.79495   \n",
       "nissan      2.12611  1.91805   3.2749  2.84647  2.76266      NaN  1.78033   \n",
       "mazda       1.56485  1.07257  1.82226  1.23549  1.79495  1.78033      NaN   \n",
       "chevrolet   1.59752  2.13248  2.72284  2.69452  3.01176  3.14446  1.42016   \n",
       "volkswagen  1.87254  2.02368  2.42943  2.74935  2.65991  3.21882  1.96079   \n",
       "subaru      1.77549  1.83878  3.01778  2.76581  2.38914  2.62895  2.11865   \n",
       "\n",
       "           chevrolet volkswagen   subaru  \n",
       "honda        1.59752    1.87254  1.77549  \n",
       "ford         2.13248    2.02368  1.83878  \n",
       "toyota       2.72284    2.42943  3.01778  \n",
       "hyundai      2.69452    2.74935  2.76581  \n",
       "kia          3.01176    2.65991  2.38914  \n",
       "nissan       3.14446    3.21882  2.62895  \n",
       "mazda        1.42016    1.96079  2.11865  \n",
       "chevrolet        NaN    3.41813  3.00383  \n",
       "volkswagen   3.41813        NaN  3.82396  \n",
       "subaru       3.00383    3.82396      NaN  "
      ]
     },
     "execution_count": 121,
     "metadata": {},
     "output_type": "execute_result"
    }
   ],
   "source": [
    "df3 = pd.DataFrame(columns = ten1)\n",
    "\n",
    "for i in range(len(ten1)):\n",
    "    new_list = []\n",
    "    \n",
    "    for j in range(len(ten1)):\n",
    "        \n",
    "        if (i!=j):\n",
    "            \n",
    "            numerator = ((df2[ten1[i]] + df2[ten1[j]]) > 1).sum()\n",
    "            denominator = df2[ten1[j]].sum()*df2[ten1[i]].sum()\n",
    "            \n",
    "            lift = numerator*len(df2)/denominator\n",
    "            \n",
    "            df3.loc[ten1[i], ten1[j]] = lift\n",
    "\n",
    "df3"
   ]
  },
  {
   "cell_type": "markdown",
   "metadata": {},
   "source": [
    "Task D: Show the brands on a multi-dimensional scaling (MDS) map (use a Python script for MDS, there are multiple scripts available on GitHub). "
   ]
  },
  {
   "cell_type": "code",
   "execution_count": 122,
   "metadata": {},
   "outputs": [
    {
     "data": {
      "image/png": "[encoded data removed]",
      "text/plain": [
       "<Figure size 432x288 with 1 Axes>"
      ]
     },
     "metadata": {
      "needs_background": "light"
     },
     "output_type": "display_data"
    }
   ],
   "source": [
    "import numpy as np\n",
    "\n",
    "# Calculating the dissimilarity matrix which is the input for plotting MDS plot\n",
    "\n",
    "dissimilarity_matrix = 1/df3\n",
    "np.fill_diagonal(dissimilarity_matrix.values, 0)\n",
    "\n",
    "# Plotting MDS plot\n",
    "\n",
    "from sklearn import manifold\n",
    "seed = np.random.RandomState(seed=3)\n",
    "\n",
    "mds = manifold.MDS(n_components=2, max_iter=3000, eps=1e-9, \n",
    "      random_state=seed, dissimilarity=\"precomputed\", n_jobs=1)\n",
    "\n",
    "results = mds.fit(dissimilarity_matrix)\n",
    "coords = results.embedding_\n",
    "\n",
    "plt.subplots_adjust(bottom = 0.1)\n",
    "plt.scatter(\n",
    "    coords[:, 0], coords[:, 1], marker = 'o'\n",
    "    )\n",
    "for label, x, y in zip(ten1, coords[:, 0], coords[:, 1]):\n",
    "    \n",
    "    plt.annotate(\n",
    "        label,\n",
    "        xy = (x, y), xytext = (-30, 30),\n",
    "        textcoords = 'offset points', ha = 'right', va = 'bottom',\n",
    "        bbox = dict(boxstyle = 'round,pad=0.5', fc = 'yellow', alpha = 0.5),\n",
    "        arrowprops = dict(arrowstyle = '->', connectionstyle = 'arc3,rad=0'))\n",
    "\n",
    "plt.show()"
   ]
  },
  {
   "cell_type": "markdown",
   "metadata": {},
   "source": [
    "Task E: What insights can you offer to your client from your analyses in Tasks C and D "
   ]
  },
  {
   "cell_type": "markdown",
   "metadata": {},
   "source": [
    "Noting some factual information about the top brands and looking at the split by manfacturer origin:\n",
    "1. Japanese - Honda, Toyota, Nissan, Mazda (parent: Toyota), Subaru\n",
    "2. American - Ford, Chevy (parent: GM)\n",
    "3. South Korean - Hyundai, Kia (parent: Hyundai)\n",
    "4. German - Volkswagen\n",
    "\n",
    "Looking at the lift association values and MDS plot, we can note that the brands coming from same parent organization or same manufacturer country seem to have the highest associations which looks like a sensible pattern in this problem. \n",
    "\n"
   ]
  },
  {
   "cell_type": "markdown",
   "metadata": {},
   "source": [
    "Task F: What are 5 most frequently mentioned attributes or features of cars in the discussions? Which attributes are most strongly associated with which of these 5 brands? You DON’T have to do a sentiment analysis for this assignment."
   ]
  },
  {
   "cell_type": "code",
   "execution_count": 150,
   "metadata": {},
   "outputs": [],
   "source": [
    "# consider the top attribute-like word list from freq_list \n",
    "\n",
    "att = {'mpg': 463, 'interior': 324, 'Legacy': 224, 'turbo': 185, 'feel': 185, 'love': 182, \n",
    "                           'Sport': 180, 'speed': 147, 'steering': 123, 'quality': 113} # in order of frequency\n",
    "\n",
    "att1 = ['mpg', 'interior', 'legacy', 'turbo', 'feel', 'love', 'sport', 'speed', 'steering', 'quality']"
   ]
  },
  {
   "cell_type": "code",
   "execution_count": 151,
   "metadata": {},
   "outputs": [
    {
     "name": "stdout",
     "output_type": "stream",
     "text": [
      "Below are the lift ratios between top 5 brands and top 5 attributes \n",
      "\n"
     ]
    },
    {
     "name": "stderr",
     "output_type": "stream",
     "text": [
      "/opt/anaconda3/lib/python3.7/site-packages/ipykernel_launcher.py:21: RuntimeWarning: invalid value encountered in long_scalars\n"
     ]
    },
    {
     "data": {
      "text/html": [
       "<div>\n",
       "<style scoped>\n",
       "    .dataframe tbody tr th:only-of-type {\n",
       "        vertical-align: middle;\n",
       "    }\n",
       "\n",
       "    .dataframe tbody tr th {\n",
       "        vertical-align: top;\n",
       "    }\n",
       "\n",
       "    .dataframe thead th {\n",
       "        text-align: right;\n",
       "    }\n",
       "</style>\n",
       "<table border=\"1\" class=\"dataframe\">\n",
       "  <thead>\n",
       "    <tr style=\"text-align: right;\">\n",
       "      <th></th>\n",
       "      <th>mpg</th>\n",
       "      <th>interior</th>\n",
       "      <th>legacy</th>\n",
       "      <th>turbo</th>\n",
       "      <th>feel</th>\n",
       "      <th>love</th>\n",
       "      <th>sport</th>\n",
       "      <th>speed</th>\n",
       "      <th>steering</th>\n",
       "      <th>quality</th>\n",
       "    </tr>\n",
       "  </thead>\n",
       "  <tbody>\n",
       "    <tr>\n",
       "      <th>honda</th>\n",
       "      <td>1.71416</td>\n",
       "      <td>1.52008</td>\n",
       "      <td>NaN</td>\n",
       "      <td>1.45828</td>\n",
       "      <td>1.49773</td>\n",
       "      <td>1.53526</td>\n",
       "      <td>2.55243</td>\n",
       "      <td>1.38611</td>\n",
       "      <td>1.75821</td>\n",
       "      <td>1.73264</td>\n",
       "    </tr>\n",
       "    <tr>\n",
       "      <th>ford</th>\n",
       "      <td>1.33208</td>\n",
       "      <td>1.46693</td>\n",
       "      <td>NaN</td>\n",
       "      <td>1.76014</td>\n",
       "      <td>1.39521</td>\n",
       "      <td>1.43981</td>\n",
       "      <td>1.15584</td>\n",
       "      <td>1.21856</td>\n",
       "      <td>1.40861</td>\n",
       "      <td>1.78976</td>\n",
       "    </tr>\n",
       "    <tr>\n",
       "      <th>toyota</th>\n",
       "      <td>1.17186</td>\n",
       "      <td>2.0345</td>\n",
       "      <td>NaN</td>\n",
       "      <td>1.16842</td>\n",
       "      <td>1.76404</td>\n",
       "      <td>1.34825</td>\n",
       "      <td>1.46138</td>\n",
       "      <td>1.06472</td>\n",
       "      <td>2.08386</td>\n",
       "      <td>2.26746</td>\n",
       "    </tr>\n",
       "    <tr>\n",
       "      <th>hyundai</th>\n",
       "      <td>1.69457</td>\n",
       "      <td>1.7853</td>\n",
       "      <td>NaN</td>\n",
       "      <td>1.6246</td>\n",
       "      <td>1.58846</td>\n",
       "      <td>1.23506</td>\n",
       "      <td>1.74167</td>\n",
       "      <td>1.05274</td>\n",
       "      <td>1.66604</td>\n",
       "      <td>1.69974</td>\n",
       "    </tr>\n",
       "    <tr>\n",
       "      <th>kia</th>\n",
       "      <td>1.20449</td>\n",
       "      <td>1.66033</td>\n",
       "      <td>NaN</td>\n",
       "      <td>2.53951</td>\n",
       "      <td>2.39235</td>\n",
       "      <td>2.43702</td>\n",
       "      <td>2.39914</td>\n",
       "      <td>1.12308</td>\n",
       "      <td>2.73312</td>\n",
       "      <td>2.95546</td>\n",
       "    </tr>\n",
       "    <tr>\n",
       "      <th>nissan</th>\n",
       "      <td>1.18699</td>\n",
       "      <td>1.73922</td>\n",
       "      <td>NaN</td>\n",
       "      <td>0.925396</td>\n",
       "      <td>1.77413</td>\n",
       "      <td>1.67502</td>\n",
       "      <td>1.46975</td>\n",
       "      <td>1.07082</td>\n",
       "      <td>1.08064</td>\n",
       "      <td>1.48724</td>\n",
       "    </tr>\n",
       "    <tr>\n",
       "      <th>mazda</th>\n",
       "      <td>0.949566</td>\n",
       "      <td>2.29245</td>\n",
       "      <td>NaN</td>\n",
       "      <td>2.15893</td>\n",
       "      <td>1.73261</td>\n",
       "      <td>2.38557</td>\n",
       "      <td>2.15303</td>\n",
       "      <td>1.15227</td>\n",
       "      <td>2.01476</td>\n",
       "      <td>2.54177</td>\n",
       "    </tr>\n",
       "    <tr>\n",
       "      <th>chevrolet</th>\n",
       "      <td>1.12084</td>\n",
       "      <td>2.10208</td>\n",
       "      <td>NaN</td>\n",
       "      <td>1.62976</td>\n",
       "      <td>0.937353</td>\n",
       "      <td>1.25373</td>\n",
       "      <td>1.1648</td>\n",
       "      <td>1.17343</td>\n",
       "      <td>1.21111</td>\n",
       "      <td>1.19176</td>\n",
       "    </tr>\n",
       "    <tr>\n",
       "      <th>volkswagen</th>\n",
       "      <td>1.50613</td>\n",
       "      <td>2.31754</td>\n",
       "      <td>NaN</td>\n",
       "      <td>2.44464</td>\n",
       "      <td>1.31815</td>\n",
       "      <td>1.49342</td>\n",
       "      <td>2.184</td>\n",
       "      <td>1.32011</td>\n",
       "      <td>0.817497</td>\n",
       "      <td>2.7846</td>\n",
       "    </tr>\n",
       "    <tr>\n",
       "      <th>subaru</th>\n",
       "      <td>1.72657</td>\n",
       "      <td>2.23626</td>\n",
       "      <td>NaN</td>\n",
       "      <td>1.22964</td>\n",
       "      <td>2.47529</td>\n",
       "      <td>1.33543</td>\n",
       "      <td>1.97737</td>\n",
       "      <td>1.82601</td>\n",
       "      <td>2.87837</td>\n",
       "      <td>1.76376</td>\n",
       "    </tr>\n",
       "  </tbody>\n",
       "</table>\n",
       "</div>"
      ],
      "text/plain": [
       "                 mpg interior legacy     turbo      feel     love    sport  \\\n",
       "honda        1.71416  1.52008    NaN   1.45828   1.49773  1.53526  2.55243   \n",
       "ford         1.33208  1.46693    NaN   1.76014   1.39521  1.43981  1.15584   \n",
       "toyota       1.17186   2.0345    NaN   1.16842   1.76404  1.34825  1.46138   \n",
       "hyundai      1.69457   1.7853    NaN    1.6246   1.58846  1.23506  1.74167   \n",
       "kia          1.20449  1.66033    NaN   2.53951   2.39235  2.43702  2.39914   \n",
       "nissan       1.18699  1.73922    NaN  0.925396   1.77413  1.67502  1.46975   \n",
       "mazda       0.949566  2.29245    NaN   2.15893   1.73261  2.38557  2.15303   \n",
       "chevrolet    1.12084  2.10208    NaN   1.62976  0.937353  1.25373   1.1648   \n",
       "volkswagen   1.50613  2.31754    NaN   2.44464   1.31815  1.49342    2.184   \n",
       "subaru       1.72657  2.23626    NaN   1.22964   2.47529  1.33543  1.97737   \n",
       "\n",
       "              speed  steering  quality  \n",
       "honda       1.38611   1.75821  1.73264  \n",
       "ford        1.21856   1.40861  1.78976  \n",
       "toyota      1.06472   2.08386  2.26746  \n",
       "hyundai     1.05274   1.66604  1.69974  \n",
       "kia         1.12308   2.73312  2.95546  \n",
       "nissan      1.07082   1.08064  1.48724  \n",
       "mazda       1.15227   2.01476  2.54177  \n",
       "chevrolet   1.17343   1.21111  1.19176  \n",
       "volkswagen  1.32011  0.817497   2.7846  \n",
       "subaru      1.82601   2.87837  1.76376  "
      ]
     },
     "execution_count": 151,
     "metadata": {},
     "output_type": "execute_result"
    }
   ],
   "source": [
    "att_df = pd.DataFrame(columns = att1)\n",
    "\n",
    "def att_mention(a):\n",
    "    if attribute in a:\n",
    "        return 1\n",
    "    else:\n",
    "        return 0\n",
    "      \n",
    "for attribute in att1:\n",
    "    att_df[attribute] = data2['comment'].apply(att_mention)  \n",
    "    \n",
    "df4 = pd.DataFrame(columns = att1)\n",
    "\n",
    "for i in range(len(ten1)):\n",
    "    new_list = []\n",
    "    \n",
    "    for j in range(len(att1)):\n",
    "        numerator = ((df2[ten1[i]] + att_df[att1[j]]) > 1).sum()\n",
    "        denominator = df2[ten1[i]].sum() * att_df[att1[j]].sum()\n",
    "        \n",
    "        lift1 = numerator*len(att_df)/denominator\n",
    "        df4.loc[ten1[i],att1[j]] = lift1\n",
    "\n",
    "print ('Below are the lift ratios between top 5 brands and top 5 attributes \\n')\n",
    "df4"
   ]
  },
  {
   "cell_type": "markdown",
   "metadata": {},
   "source": [
    "Task G: What advice will you give to your client from Task F? For this assignment, you can assume that all sentiments are positive. "
   ]
  },
  {
   "cell_type": "markdown",
   "metadata": {},
   "source": [
    "Considering the five most frequent attributes as [mpg, interor, turbo, speed and steering], it can be noted that:\n",
    "1. All except mazda seem to perform equally in terms of mileage, and there's a clear half and half for interior.\n",
    "2. Kia (closely followed by volkwagen) leads with turbo, while Nissan performs the worst\n",
    "3. Speed seems to be equally talked about for all the brands while steering comes in with Toyota, Kia, Mazda and Subaru."
   ]
  },
  {
   "cell_type": "markdown",
   "metadata": {},
   "source": [
    "Task H: Which is the most aspirational brand in your data in terms of people actually wanting to buy or own? Describe your analysis. What are the business implications for this brand?"
   ]
  },
  {
   "cell_type": "markdown",
   "metadata": {},
   "source": [
    "Considering the words [Legacy, feel, love, Sport, Quality] as indicative of aspiration, it's not very surprsing to note that none of the top brands are associated with legacy. Kia and Subaru seem to have more association with \"feel\" but it's hard to comment on the positive or negative sentiment without further analysis. Kia and Mazda show more with the word \"love\". While Honda takes away the lead for sport, I wonder if it is because of the fact that it has been creating a bit of buzz within motorsports, particualrly Formula one. Finally, toyota, kia, mazda and volkwagen tend to be paired with quality. "
   ]
  }
 ],
 "metadata": {
  "kernelspec": {
   "display_name": "Python 3",
   "language": "python",
   "name": "python3"
  },
  "language_info": {
   "codemirror_mode": {
    "name": "ipython",
    "version": 3
   },
   "file_extension": ".py",
   "mimetype": "text/x-python",
   "name": "python",
   "nbconvert_exporter": "python",
   "pygments_lexer": "ipython3",
   "version": "3.7.6"
  }
 },
 "nbformat": 4,
 "nbformat_minor": 4
}
